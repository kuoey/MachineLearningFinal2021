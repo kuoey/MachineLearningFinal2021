{
 "cells": [
  {
   "cell_type": "code",
   "execution_count": 65,
   "metadata": {},
   "outputs": [
    {
     "name": "stdout",
     "output_type": "stream",
     "text": [
      "(200000, 14)\n",
      "(200000, 14)\n",
      "(200000,)\n",
      "(150000, 14)\n",
      "(50000, 14)\n",
      "(150000,)\n",
      "(50000,)\n"
     ]
    }
   ],
   "source": [
    "import numpy as np\n",
    "import matplotlib.pyplot as plt\n",
    "import mltools as ml\n",
    "from sklearn.ensemble import AdaBoostClassifier\n",
    "from sklearn.ensemble import RandomForestClassifier\n",
    "from sklearn.ensemble import GradientBoostingClassifier\n",
    "from sklearn.neighbors import KNeighborsClassifier\n",
    "from sklearn.metrics import roc_curve, auc\n",
    "from sklearn import tree\n",
    "from sklearn import gaussian_process\n",
    "from sklearn import linear_model\n",
    "\n",
    "X = np.genfromtxt(\"data/X_train.txt\")\n",
    "Y = np.genfromtxt(\"data/Y_train.txt\")\n",
    "X, Y = ml.shuffleData(X, Y)\n",
    "Xte = np.genfromtxt(\"data/X_test.txt\")\n",
    "print(Xte.shape)\n",
    "\n",
    "\n",
    "Xtr, Xva, Ytr, Yva = ml.splitData(X, Y, 0.75)\n",
    "print(X.shape)\n",
    "print(Y.shape)\n",
    "print(Xtr.shape)\n",
    "print(Xva.shape)\n",
    "print(Ytr.shape)\n",
    "print(Yva.shape)\n"
   ]
  },
  {
   "cell_type": "code",
   "execution_count": 81,
   "metadata": {},
   "outputs": [],
   "source": [
    "# Random Forest Classifier       def=100      def=auto          def=none\n",
    "rfC = RandomForestClassifier(n_estimators=100, max_features=4, max_depth=20)"
   ]
  },
  {
   "cell_type": "code",
   "execution_count": 71,
   "metadata": {},
   "outputs": [],
   "source": [
    "# KNN classifier             def=2\n",
    "knnC = KNeighborsClassifier(p=1)"
   ]
  },
  {
   "cell_type": "code",
   "execution_count": 78,
   "metadata": {},
   "outputs": [],
   "source": [
    "# Gradient Boosting\n",
    "gradC = GradientBoostingClassifier( max_depth=10, n_estimators=750, max_features=4)"
   ]
  },
  {
   "cell_type": "code",
   "execution_count": 82,
   "metadata": {},
   "outputs": [
    {
     "name": "stdout",
     "output_type": "stream",
     "text": [
      "0.7896538829836018\n"
     ]
    }
   ],
   "source": [
    "# # Random Forest Classifier       def=100      def=auto          def=none\n",
    "# rfC = RandomForestClassifier(n_estimators=20, max_features=10, max_depth=20)\n",
    "\n",
    "# # KNN classifier             def=2\n",
    "# knnC = KNeighborsClassifier(p=1)\n",
    "\n",
    "# AdaBoost Classifier\n",
    "# decTree = tree.DecisionTreeClassifier(max_depth=3)\n",
    "# adaC = AdaBoostClassifier(base_estimator=decTree, n_estimators=50)\n",
    "\n",
    "# # Gradient Boosting\n",
    "# gradC = GradientBoostingClassifier(max_depth=10, n_estimators=750)\n",
    "\n",
    "# listOfC = [rfC, knnC, adaC]\n",
    "listOfC = [knnC, rfC,gradC]\n",
    "\n",
    "listOfPredictionsAUC = []\n",
    "listOfPredictionsKaggle = []\n",
    "for c in listOfC:\n",
    "    c.fit(Xtr, Ytr)\n",
    "\n",
    "    # Use this line for testing out the AUC Curve\n",
    "    listOfPredictionsAUC.append(c.predict_proba(Xva))\n",
    "\n",
    "    # Use this line for writing to Kaggle\n",
    "    listOfPredictionsKaggle.append(c.predict_proba(Xte))\n",
    "\n",
    "predictionsAUC = np.mean(np.array([listOfPredictionsAUC[0], listOfPredictionsAUC[1], listOfPredictionsAUC[2]]), axis=0)\n",
    "# predictionsKaggle = np.mean(np.array([listOfPredictionsKaggle[0], listOfPredictionsKaggle[1], listOfPredictionsKaggle[2]]), axis=0)\n",
    "# get the auc data\n",
    "false_positive_rate, true_positive_rate, thresholds = roc_curve(Yva, predictionsAUC[:, 1])\n",
    "roc_auc = auc(false_positive_rate, true_positive_rate)\n",
    "print(roc_auc)"
   ]
  },
  {
   "cell_type": "code",
   "execution_count": 49,
   "metadata": {},
   "outputs": [
    {
     "name": "stdout",
     "output_type": "stream",
     "text": [
      "0.7762773174503048\n"
     ]
    }
   ],
   "source": [
    "# get the auc data\n",
    "false_positive_rate, true_positive_rate, thresholds = roc_curve(Yva, predictionsAUC[:, 1])\n",
    "roc_auc = auc(false_positive_rate, true_positive_rate)\n",
    "print(roc_auc)"
   ]
  },
  {
   "cell_type": "code",
   "execution_count": null,
   "metadata": {},
   "outputs": [],
   "source": [
    "np.savetxt('kaggle2021_predictions.txt',\n",
    "           np.vstack((np.arange(len(predictions)), predictions[:, 1])).T,\n",
    "           '%d, %.2f', header='ID,Prob1', comments='', delimiter=',')"
   ]
  }
 ],
 "metadata": {
  "kernelspec": {
   "display_name": "Python 3",
   "language": "python",
   "name": "python3"
  },
  "language_info": {
   "codemirror_mode": {
    "name": "ipython",
    "version": 3
   },
   "file_extension": ".py",
   "mimetype": "text/x-python",
   "name": "python",
   "nbconvert_exporter": "python",
   "pygments_lexer": "ipython3",
   "version": "3.8.8"
  }
 },
 "nbformat": 4,
 "nbformat_minor": 4
}
